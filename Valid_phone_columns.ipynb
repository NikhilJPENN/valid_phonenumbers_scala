{
 "cells": [
  {
   "cell_type": "markdown",
   "metadata": {},
   "source": [
    "## @Nikhil Jamdade  Bosch Data Engineer Test  \n",
    "\n",
    "The following scala program filters out the invalid phone number columns from spark dataframe and gives out valid phone columns. \n",
    "\n",
    "The regex is used to compare/match the pattern of phone numbers. Each column is selected from orignal dataframe to check pattern. \n",
    "\n",
    "The filter and rlike removes unmatched/null elements in the column. If the number original elements in the column is \n",
    "not equal to filtered column. Those columns are simply removed from the original data frame. \n",
    "\n"
   ]
  },
  {
   "cell_type": "code",
   "execution_count": null,
   "metadata": {},
   "outputs": [],
   "source": [
    "import scala.collection.mutable.ListBuffer"
   ]
  },
  {
   "cell_type": "code",
   "execution_count": 39,
   "metadata": {},
   "outputs": [
    {
     "name": "stdout",
     "output_type": "stream",
     "text": [
      "Given columns with phone numbers:\n",
      "+--------------+--------------+--------------+--------------+--------------+\n",
      "|       column1|       column2|       column3|       column4|       column5|\n",
      "+--------------+--------------+--------------+--------------+--------------+\n",
      "|  222-222-2222|   222-2222222|(792)-883-2256|111-222-111111|    2367838383|\n",
      "|        @gmail|          null|   222-8289827| (123)-111-222|(456)-223-1199|\n",
      "|(222)-221-1111|        _ 2222|    5678987654|   101001-1001|   167-2348973|\n",
      "|   277-282-959|99952528334432|  123-456-7890|              |  122-567-8921|\n",
      "+--------------+--------------+--------------+--------------+--------------+\n",
      "\n",
      "The valid phone number columns are as follows:\n",
      "+--------------+--------------+\n",
      "|       column3|       column5|\n",
      "+--------------+--------------+\n",
      "|(792)-883-2256|    2367838383|\n",
      "|   222-8289827|(456)-223-1199|\n",
      "|    5678987654|   167-2348973|\n",
      "|  123-456-7890|  122-567-8921|\n",
      "+--------------+--------------+\n",
      "\n"
     ]
    },
    {
     "data": {
      "text/plain": [
       "df = [column1: string, column2: string ... 3 more fields]\n",
       "columns = Array(column1, column2, column3, column4, column5)\n",
       "new_cols = ListBuffer(column3, column5)\n",
       "df2 = [column3: string, column5: string]\n"
      ]
     },
     "metadata": {},
     "output_type": "display_data"
    },
    {
     "data": {
      "text/plain": [
       "[column3: string, column5: string]"
      ]
     },
     "execution_count": 39,
     "metadata": {},
     "output_type": "execute_result"
    }
   ],
   "source": [
    "val df = Seq(\n",
    "    \n",
    "  (\"222-222-2222\",\"222-2222222\",\"(792)-883-2256\",\"111-222-111111\",\"2367838383\"),\n",
    "  (\"@gmail\",null,\"222-8289827\",\"(123)-111-222\",\"(456)-223-1199\"),(\"(222)-221-1111\",\"_ 2222\",\"5678987654\",\"101001-1001\",\"167-2348973\"),\n",
    "  (\"277-282-959\",\"99952528334432\",\"123-456-7890\",\" \",\"122-567-8921\")\n",
    "    \n",
    ").toDF(\"column1\",\"column2\",\"column3\",\"column4\",\"column5\")\n",
    "\n",
    "println(\"Given columns with phone numbers:\")\n",
    "df.show()\n",
    "\n",
    "val columns: Array[String] = df.columns\n",
    "var new_cols = new ListBuffer[String]()\n",
    "for(i <- columns){\n",
    "    \n",
    "    var idCol = $\"$i\"\n",
    "    var filter_df = df.select(idCol)\n",
    "    var count_orignal = filter_df.count()\n",
    "    var count_filter = filter_df.filter(idCol.rlike (\"^\\\\(\\\\d{3}\\\\)-\\\\d{3}-\\\\d{4}|\\\\d{3}-\\\\d{7}|\\\\d{3}-\\\\d{3}-\\\\d{4}|\\\\d{10}$\")).count()\n",
    "    if( count_orignal == count_filter){\n",
    "        \n",
    "        new_cols +=i        \n",
    "    }\n",
    "}\n",
    "\n",
    "println(\"The valid phone number columns are as follows:\")\n",
    "\n",
    "var df2 = df.select(new_cols.head, new_cols.tail: _*)\n",
    "df2.show()"
   ]
  }
 ],
 "metadata": {
  "kernelspec": {
   "display_name": "Apache Toree - Scala",
   "language": "scala",
   "name": "apache_toree_scala"
  },
  "language_info": {
   "codemirror_mode": "text/x-scala",
   "file_extension": ".scala",
   "mimetype": "text/x-scala",
   "name": "scala",
   "pygments_lexer": "scala",
   "version": "2.11.8"
  }
 },
 "nbformat": 4,
 "nbformat_minor": 2
}
